{
 "cells": [
  {
   "cell_type": "markdown",
   "id": "53fe8e98-4448-4e95-896a-c2fe12bf0f17",
   "metadata": {},
   "source": [
    "## Training"
   ]
  },
  {
   "cell_type": "markdown",
   "id": "f4f9b722-8b83-461c-a59f-27ae3d39c548",
   "metadata": {},
   "source": [
    "### 最后一台"
   ]
  },
  {
   "cell_type": "code",
   "execution_count": null,
   "id": "8181e9c3-66f6-4401-9389-b724b900ab3b",
   "metadata": {},
   "outputs": [],
   "source": [
    "cfg1 = '/root/custom_cfg/Swin_Small_Uper.py'\n",
    "cfg2 = '/root/custom_cfg/Swin_Base_Uper.py'\n",
    "cfg3 = '/root/custom_cfg/Swin_Large_Uper.py'\n",
    "cfg4 = '/root/custom_cfg/ConvNext_Small_Uper.py'\n",
    "cfg5 = '/root/custom_cfg/ConvNext_Base_Uper.py'\n",
    "cfg6 = '/root/custom_cfg/ConvNext_Large_Uper.py'\n",
    "cfg7 = '/root/custom_cfg/Beit_Base_Uper.py'\n",
    "cfg9 = '/root/custom_cfg/Segformer_mit_b4.py'\n",
    "cfg10 = '/root/custom_cfg/Twins_svt_large_uper.py'\n",
    "cfg11 = '/root/custom_cfg/Twins_pcpvt_large_uper.py'"
   ]
  },
  {
   "cell_type": "code",
   "execution_count": null,
   "id": "a723d5bf-caf7-4461-815c-738126f44704",
   "metadata": {},
   "outputs": [],
   "source": [
    "!python /root/mmsegmentation/tools/train.py {cfg5}"
   ]
  },
  {
   "cell_type": "markdown",
   "id": "9d015145-b072-4b8d-9589-d216c1a5b5c5",
   "metadata": {},
   "source": [
    "## Testing"
   ]
  },
  {
   "cell_type": "code",
   "execution_count": null,
   "id": "3126203f-f7e9-4b2a-bd31-da7fa60e86c2",
   "metadata": {},
   "outputs": [],
   "source": [
    "cpkt11 = '/root/swin_small_25000_anno_only_832.pth'\n",
    "cpkt12 = '/root/Swin_Small_Uper/iter_50000.pth'\n",
    "cpkt13 = '/root/Swin_Small_Uper/iter_30000.pth'\n",
    "cpkt2 = 'ConvNext_Base_Uper/best_mDice_iter_22000.pth'"
   ]
  },
  {
   "cell_type": "markdown",
   "id": "c0204c71-0c91-4325-83d7-027e401ab2fe",
   "metadata": {},
   "source": [
    "* ConvNext"
   ]
  },
  {
   "cell_type": "code",
   "execution_count": null,
   "id": "428ea89b-8bea-4de8-bd56-444f2932d8a4",
   "metadata": {},
   "outputs": [],
   "source": [
    "#thr = [0.9, 0.5, 0.45]\n",
    "!python /root/mmsegmentation/tools/test.py \\\n",
    "{cfg2} \\\n",
    "{cpkt2} \\\n",
    "--eval 'imDice' 'mDice' 'mIoU' 'PR' \\\n",
    "# --show-dir /root/swin_small_inference"
   ]
  },
  {
   "cell_type": "code",
   "execution_count": null,
   "id": "8652c09a-7de9-46d4-9cb8-1425ac43bed1",
   "metadata": {},
   "outputs": [],
   "source": [
    "#thr = [0.9, 0.5, 0.45]\n",
    "!python /root/mmsegmentation/tools/test.py \\\n",
    "{cfg2} \\\n",
    "{cpkt2} \\\n",
    "--eval 'imDice' 'mDice' 'mIoU' 'PR' \\\n",
    "# --show-dir /root/swin_small_inference"
   ]
  },
  {
   "cell_type": "markdown",
   "id": "91a41f56-d04a-4768-b4f0-afaf499a8e73",
   "metadata": {},
   "source": [
    "* Swin_Small"
   ]
  },
  {
   "cell_type": "code",
   "execution_count": null,
   "id": "c37f678f-ca1e-4872-ab79-70eddffb8501",
   "metadata": {
    "tags": []
   },
   "outputs": [],
   "source": [
    "#thr = [0.9, 0.8, 0.5]\n",
    "!python /root/mmsegmentation/tools/test.py \\\n",
    "{cfg1} \\\n",
    "{cpkt11} \\\n",
    "--eval 'imDice' 'mDice' 'mIoU' 'PR'"
   ]
  },
  {
   "cell_type": "code",
   "execution_count": null,
   "id": "9b9599ea-cf33-40c8-9694-94054b8a33fa",
   "metadata": {},
   "outputs": [],
   "source": [
    "#thr = [0.9, 0.8, 0.5]\n",
    "!python /root/mmsegmentation/tools/test.py \\\n",
    "{cfg2} \\\n",
    "{cpkt11} \\\n",
    "--eval 'imDice' 'mDice' 'mIoU' 'PR'"
   ]
  },
  {
   "cell_type": "code",
   "execution_count": null,
   "id": "3f8b3d26-aa78-4f4f-8554-8e8728d17d58",
   "metadata": {},
   "outputs": [],
   "source": []
  },
  {
   "cell_type": "code",
   "execution_count": null,
   "id": "6b1a51b0-a291-410c-9c9c-4db698ebee1a",
   "metadata": {},
   "outputs": [],
   "source": []
  }
 ],
 "metadata": {
  "kernelspec": {
   "display_name": "Python 3 (ipykernel)",
   "language": "python",
   "name": "python3"
  },
  "language_info": {
   "codemirror_mode": {
    "name": "ipython",
    "version": 3
   },
   "file_extension": ".py",
   "mimetype": "text/x-python",
   "name": "python",
   "nbconvert_exporter": "python",
   "pygments_lexer": "ipython3",
   "version": "3.8.10"
  }
 },
 "nbformat": 4,
 "nbformat_minor": 5
}
